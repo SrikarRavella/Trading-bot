{
 "cells": [
  {
   "cell_type": "code",
   "execution_count": 1,
   "metadata": {},
   "outputs": [
    {
     "name": "stderr",
     "output_type": "stream",
     "text": [
      "C:\\Users\\nagan\\anaconda3\\lib\\site-packages\\pandas\\core\\computation\\expressions.py:20: UserWarning: Pandas requires version '2.7.3' or newer of 'numexpr' (version '2.7.1' currently installed).\n",
      "  from pandas.core.computation.check import NUMEXPR_INSTALLED\n"
     ]
    },
    {
     "name": "stdout",
     "output_type": "stream",
     "text": [
      "[*********************100%%**********************]  1 of 1 completed\n"
     ]
    },
    {
     "data": {
      "text/html": [
       "<div>\n",
       "<style scoped>\n",
       "    .dataframe tbody tr th:only-of-type {\n",
       "        vertical-align: middle;\n",
       "    }\n",
       "\n",
       "    .dataframe tbody tr th {\n",
       "        vertical-align: top;\n",
       "    }\n",
       "\n",
       "    .dataframe thead th {\n",
       "        text-align: right;\n",
       "    }\n",
       "</style>\n",
       "<table border=\"1\" class=\"dataframe\">\n",
       "  <thead>\n",
       "    <tr style=\"text-align: right;\">\n",
       "      <th></th>\n",
       "      <th>Open</th>\n",
       "      <th>High</th>\n",
       "      <th>Low</th>\n",
       "      <th>Close</th>\n",
       "      <th>Adj Close</th>\n",
       "      <th>Volume</th>\n",
       "    </tr>\n",
       "    <tr>\n",
       "      <th>Datetime</th>\n",
       "      <th></th>\n",
       "      <th></th>\n",
       "      <th></th>\n",
       "      <th></th>\n",
       "      <th></th>\n",
       "      <th></th>\n",
       "    </tr>\n",
       "  </thead>\n",
       "  <tbody>\n",
       "    <tr>\n",
       "      <th>2023-09-19 00:00:00</th>\n",
       "      <td>1.069404</td>\n",
       "      <td>1.069519</td>\n",
       "      <td>1.069404</td>\n",
       "      <td>1.069519</td>\n",
       "      <td>1.069519</td>\n",
       "      <td>0</td>\n",
       "    </tr>\n",
       "    <tr>\n",
       "      <th>2023-09-19 00:15:00</th>\n",
       "      <td>1.069633</td>\n",
       "      <td>1.069747</td>\n",
       "      <td>1.069519</td>\n",
       "      <td>1.069633</td>\n",
       "      <td>1.069633</td>\n",
       "      <td>0</td>\n",
       "    </tr>\n",
       "    <tr>\n",
       "      <th>2023-09-19 00:30:00</th>\n",
       "      <td>1.069519</td>\n",
       "      <td>1.069633</td>\n",
       "      <td>1.069519</td>\n",
       "      <td>1.069633</td>\n",
       "      <td>1.069633</td>\n",
       "      <td>0</td>\n",
       "    </tr>\n",
       "    <tr>\n",
       "      <th>2023-09-19 00:45:00</th>\n",
       "      <td>1.069633</td>\n",
       "      <td>1.069633</td>\n",
       "      <td>1.069519</td>\n",
       "      <td>1.069519</td>\n",
       "      <td>1.069519</td>\n",
       "      <td>0</td>\n",
       "    </tr>\n",
       "    <tr>\n",
       "      <th>2023-09-19 01:00:00</th>\n",
       "      <td>1.069633</td>\n",
       "      <td>1.069976</td>\n",
       "      <td>1.069633</td>\n",
       "      <td>1.069747</td>\n",
       "      <td>1.069747</td>\n",
       "      <td>0</td>\n",
       "    </tr>\n",
       "    <tr>\n",
       "      <th>...</th>\n",
       "      <td>...</td>\n",
       "      <td>...</td>\n",
       "      <td>...</td>\n",
       "      <td>...</td>\n",
       "      <td>...</td>\n",
       "      <td>...</td>\n",
       "    </tr>\n",
       "    <tr>\n",
       "      <th>2023-09-20 22:45:00</th>\n",
       "      <td>1.066667</td>\n",
       "      <td>1.066894</td>\n",
       "      <td>1.066553</td>\n",
       "      <td>1.066894</td>\n",
       "      <td>1.066894</td>\n",
       "      <td>0</td>\n",
       "    </tr>\n",
       "    <tr>\n",
       "      <th>2023-09-20 23:00:00</th>\n",
       "      <td>1.066667</td>\n",
       "      <td>1.066667</td>\n",
       "      <td>1.066325</td>\n",
       "      <td>1.066325</td>\n",
       "      <td>1.066325</td>\n",
       "      <td>0</td>\n",
       "    </tr>\n",
       "    <tr>\n",
       "      <th>2023-09-20 23:15:00</th>\n",
       "      <td>1.066212</td>\n",
       "      <td>1.066212</td>\n",
       "      <td>1.065984</td>\n",
       "      <td>1.065984</td>\n",
       "      <td>1.065984</td>\n",
       "      <td>0</td>\n",
       "    </tr>\n",
       "    <tr>\n",
       "      <th>2023-09-20 23:30:00</th>\n",
       "      <td>1.065984</td>\n",
       "      <td>1.065984</td>\n",
       "      <td>1.065644</td>\n",
       "      <td>1.065871</td>\n",
       "      <td>1.065871</td>\n",
       "      <td>0</td>\n",
       "    </tr>\n",
       "    <tr>\n",
       "      <th>2023-09-20 23:45:00</th>\n",
       "      <td>1.065757</td>\n",
       "      <td>1.065984</td>\n",
       "      <td>1.065644</td>\n",
       "      <td>1.065984</td>\n",
       "      <td>1.065984</td>\n",
       "      <td>0</td>\n",
       "    </tr>\n",
       "  </tbody>\n",
       "</table>\n",
       "<p>192 rows × 6 columns</p>\n",
       "</div>"
      ],
      "text/plain": [
       "                         Open      High       Low     Close  Adj Close  Volume\n",
       "Datetime                                                                      \n",
       "2023-09-19 00:00:00  1.069404  1.069519  1.069404  1.069519   1.069519       0\n",
       "2023-09-19 00:15:00  1.069633  1.069747  1.069519  1.069633   1.069633       0\n",
       "2023-09-19 00:30:00  1.069519  1.069633  1.069519  1.069633   1.069633       0\n",
       "2023-09-19 00:45:00  1.069633  1.069633  1.069519  1.069519   1.069519       0\n",
       "2023-09-19 01:00:00  1.069633  1.069976  1.069633  1.069747   1.069747       0\n",
       "...                       ...       ...       ...       ...        ...     ...\n",
       "2023-09-20 22:45:00  1.066667  1.066894  1.066553  1.066894   1.066894       0\n",
       "2023-09-20 23:00:00  1.066667  1.066667  1.066325  1.066325   1.066325       0\n",
       "2023-09-20 23:15:00  1.066212  1.066212  1.065984  1.065984   1.065984       0\n",
       "2023-09-20 23:30:00  1.065984  1.065984  1.065644  1.065871   1.065871       0\n",
       "2023-09-20 23:45:00  1.065757  1.065984  1.065644  1.065984   1.065984       0\n",
       "\n",
       "[192 rows x 6 columns]"
      ]
     },
     "execution_count": 1,
     "metadata": {},
     "output_type": "execute_result"
    }
   ],
   "source": [
    "import yfinance as yf\n",
    "import pandas as pd\n",
    "\n",
    "dataF = yf.download(\"EURUSD=X\", start=\"2023-09-19\", end=\"2023-09-21\", interval='15m')\n",
    "dataF.iloc[:,:]\n",
    "#dataF.Open.iloc"
   ]
  },
  {
   "cell_type": "code",
   "execution_count": 2,
   "metadata": {},
   "outputs": [],
   "source": [
    "def signal_generator(df):\n",
    "    open = df.Open.iloc[-1]\n",
    "    close = df.Close.iloc[-1]\n",
    "    previous_open = df.Open.iloc[-2]\n",
    "    previous_close = df.Close.iloc[-2]\n",
    "    \n",
    "    # Bear market\n",
    "    if (open>close and \n",
    "    previous_open<previous_close and \n",
    "    close<previous_open and\n",
    "    open>=previous_close):\n",
    "        return 1\n",
    "\n",
    "    # Bull market\n",
    "    elif (open<close and \n",
    "        previous_open>previous_close and \n",
    "        close>previous_open and\n",
    "        open<=previous_close):\n",
    "        return 2\n",
    " \n",
    "    else:\n",
    "        return 0\n",
    "\n",
    "signal = []\n",
    "signal.append(0)\n",
    "for i in range(1,len(dataF)):\n",
    "    df = dataF[i-1:i+1]\n",
    "    signal.append(signal_generator(df))\n",
    "#signal_generator(data)\n",
    "dataF[\"signal\"] = signal"
   ]
  },
  {
   "cell_type": "code",
   "execution_count": 3,
   "metadata": {},
   "outputs": [
    {
     "data": {
      "text/plain": [
       "signal\n",
       "0    179\n",
       "2      7\n",
       "1      6\n",
       "Name: count, dtype: int64"
      ]
     },
     "execution_count": 3,
     "metadata": {},
     "output_type": "execute_result"
    }
   ],
   "source": [
    "dataF.signal.value_counts()\n",
    "#dataF.iloc[:, :]"
   ]
  },
  {
   "cell_type": "code",
   "execution_count": 4,
   "metadata": {},
   "outputs": [],
   "source": [
    "from apscheduler.schedulers.blocking import BlockingScheduler\n",
    "from oandapyV20 import API\n",
    "import oandapyV20.endpoints.orders as orders\n",
    "from oandapyV20.contrib.requests import MarketOrderRequest\n",
    "from oanda_candles import Pair, Gran, CandleClient\n",
    "from oandapyV20.contrib.requests import TakeProfitDetails, StopLossDetails"
   ]
  },
  {
   "cell_type": "code",
   "execution_count": 5,
   "metadata": {},
   "outputs": [
    {
     "name": "stdout",
     "output_type": "stream",
     "text": [
      "True\n",
      "True\n",
      "True\n"
     ]
    }
   ],
   "source": [
    "\n",
    "def get_candles(n):\n",
    "    \n",
    "    access_token= '711c31656939cd2a3883c45235efcd6a-91fc6012144b44126ad8644f26f19411'\n",
    "    client = CandleClient(access_token, real=False)\n",
    "    collector = client.get_collector(Pair.EUR_USD, Gran.M15)\n",
    "    candles = collector.grab(n)\n",
    "    return candles\n",
    "\n",
    "candles = get_candles(3)\n",
    "for candle in candles:\n",
    "    print(float(str(candle.bid.o))>1)\n"
   ]
  },
  {
   "cell_type": "code",
   "execution_count": 6,
   "metadata": {},
   "outputs": [],
   "source": [
    "def trading_job():\n",
    "    candles = get_candles(3)\n",
    "    dfstream = pd.DataFrame(columns=['Open','Close','High','Low'])\n",
    "    \n",
    "    i=0\n",
    "    for candle in candles:\n",
    "        dfstream.loc[i, ['Open']] = float(str(candle.bid.o))\n",
    "        dfstream.loc[i, ['Close']] = float(str(candle.bid.c))\n",
    "        dfstream.loc[i, ['High']] = float(str(candle.bid.h))\n",
    "        dfstream.loc[i, ['Low']] = float(str(candle.bid.l))\n",
    "        i=i+1\n",
    "\n",
    "    dfstream['Open'] = dfstream['Open'].astype(float)\n",
    "    dfstream['Close'] = dfstream['Close'].astype(float)\n",
    "    dfstream['High'] = dfstream['High'].astype(float)\n",
    "    dfstream['Low'] = dfstream['Low'].astype(float)\n",
    "\n",
    "    signal = signal_generator(dfstream.iloc[:-1,:])#\n",
    "    \n",
    "    accountID= \"101-001-26738343-001\"\n",
    "    client = API(access_token= '711c31656939cd2a3883c45235efcd6a-91fc6012144b44126ad8644f26f19411')\n",
    "         \n",
    "    SLTPRatio = 2.\n",
    "    previous_candleR = abs(dfstream['High'].iloc[-2]-dfstream['Low'].iloc[-2])\n",
    "    \n",
    "    SLBuy = float(str(candle.bid.o))-previous_candleR\n",
    "    SLSell = float(str(candle.bid.o))+previous_candleR\n",
    "\n",
    "    TPBuy = float(str(candle.bid.o))+previous_candleR*SLTPRatio\n",
    "    TPSell = float(str(candle.bid.o))-previous_candleR*SLTPRatio\n",
    "    \n",
    "    print(dfstream.iloc[:-1,:])\n",
    "    print(TPBuy, \"  \", SLBuy, \"  \", TPSell, \"  \", SLSell)\n",
    "    signal = 2\n",
    "    #Sell\n",
    "    if signal == 1:\n",
    "        mo = MarketOrderRequest(instrument=\"EUR_USD\", units=-2000, takeProfitOnFill=TakeProfitDetails(price=TPSell).data, stopLossOnFill=StopLossDetails(price=SLSell).data)\n",
    "        r = orders.OrderCreate(accountID, data=mo.data)\n",
    "        rv = client.request(r)\n",
    "        print(rv)\n",
    "    #Buy\n",
    "    elif signal == 2:\n",
    "        mo = MarketOrderRequest(instrument=\"EUR_USD\", units=2000, takeProfitOnFill=TakeProfitDetails(price=TPBuy).data, stopLossOnFill=StopLossDetails(price=SLBuy).data)\n",
    "        r = orders.OrderCreate(accountID, data=mo.data)\n",
    "        rv = client.request(r)\n",
    "        print(rv)"
   ]
  },
  {
   "cell_type": "code",
   "execution_count": 7,
   "metadata": {},
   "outputs": [
    {
     "name": "stdout",
     "output_type": "stream",
     "text": [
      "      Open    Close     High      Low\n",
      "0  1.06458  1.06410  1.06461  1.06409\n",
      "1  1.06410  1.06443  1.06446  1.06408\n",
      "1.0652000000000001    1.06406    1.06368    1.06482\n",
      "{'orderCreateTransaction': {'id': '80', 'accountID': '101-001-26738343-001', 'userID': 26738343, 'batchID': '80', 'requestID': '43140502194109639', 'time': '2023-09-24T13:37:22.900594150Z', 'type': 'MARKET_ORDER', 'instrument': 'EUR_USD', 'units': '2000', 'timeInForce': 'FOK', 'positionFill': 'DEFAULT', 'takeProfitOnFill': {'price': '1.06520', 'timeInForce': 'GTC'}, 'stopLossOnFill': {'price': '1.06406', 'timeInForce': 'GTC', 'triggerMode': 'TOP_OF_BOOK'}, 'reason': 'CLIENT_ORDER'}, 'orderCancelTransaction': {'id': '81', 'accountID': '101-001-26738343-001', 'userID': 26738343, 'batchID': '80', 'requestID': '43140502194109639', 'time': '2023-09-24T13:37:22.900594150Z', 'type': 'ORDER_CANCEL', 'orderID': '80', 'reason': 'MARKET_HALTED'}, 'relatedTransactionIDs': ['80', '81'], 'lastTransactionID': '81'}\n"
     ]
    }
   ],
   "source": [
    "trading_job()"
   ]
  },
  {
   "cell_type": "code",
   "execution_count": null,
   "metadata": {},
   "outputs": [],
   "source": []
  }
 ],
 "metadata": {
  "kernelspec": {
   "display_name": "Python 3",
   "language": "python",
   "name": "python3"
  },
  "language_info": {
   "codemirror_mode": {
    "name": "ipython",
    "version": 3
   },
   "file_extension": ".py",
   "mimetype": "text/x-python",
   "name": "python",
   "nbconvert_exporter": "python",
   "pygments_lexer": "ipython3",
   "version": "3.8.5"
  }
 },
 "nbformat": 4,
 "nbformat_minor": 4
}
